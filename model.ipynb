{
 "cells": [
  {
   "cell_type": "code",
   "execution_count": 1,
   "id": "bb249764",
   "metadata": {},
   "outputs": [
    {
     "name": "stdout",
     "output_type": "stream",
     "text": [
      "Requirement already satisfied: pandas in c:\\users\\maxi\\anaconda3\\lib\\site-packages (1.5.3)\n",
      "Requirement already satisfied: numpy in c:\\users\\maxi\\anaconda3\\lib\\site-packages (1.24.3)\n",
      "Requirement already satisfied: scikit-learn in c:\\users\\maxi\\anaconda3\\lib\\site-packages (1.2.2)\n",
      "Requirement already satisfied: matplotlib in c:\\users\\maxi\\anaconda3\\lib\\site-packages (3.7.1)\n",
      "Requirement already satisfied: seaborn in c:\\users\\maxi\\anaconda3\\lib\\site-packages (0.12.2)\n",
      "Requirement already satisfied: python-dateutil>=2.8.1 in c:\\users\\maxi\\anaconda3\\lib\\site-packages (from pandas) (2.8.2)\n",
      "Requirement already satisfied: pytz>=2020.1 in c:\\users\\maxi\\anaconda3\\lib\\site-packages (from pandas) (2022.7)\n",
      "Requirement already satisfied: scipy>=1.3.2 in c:\\users\\maxi\\anaconda3\\lib\\site-packages (from scikit-learn) (1.10.1)\n",
      "Requirement already satisfied: joblib>=1.1.1 in c:\\users\\maxi\\anaconda3\\lib\\site-packages (from scikit-learn) (1.2.0)\n",
      "Requirement already satisfied: threadpoolctl>=2.0.0 in c:\\users\\maxi\\anaconda3\\lib\\site-packages (from scikit-learn) (2.2.0)\n",
      "Requirement already satisfied: contourpy>=1.0.1 in c:\\users\\maxi\\anaconda3\\lib\\site-packages (from matplotlib) (1.0.5)\n",
      "Requirement already satisfied: cycler>=0.10 in c:\\users\\maxi\\anaconda3\\lib\\site-packages (from matplotlib) (0.11.0)\n",
      "Requirement already satisfied: fonttools>=4.22.0 in c:\\users\\maxi\\anaconda3\\lib\\site-packages (from matplotlib) (4.25.0)\n",
      "Requirement already satisfied: kiwisolver>=1.0.1 in c:\\users\\maxi\\anaconda3\\lib\\site-packages (from matplotlib) (1.4.4)\n",
      "Requirement already satisfied: packaging>=20.0 in c:\\users\\maxi\\anaconda3\\lib\\site-packages (from matplotlib) (23.0)\n",
      "Requirement already satisfied: pillow>=6.2.0 in c:\\users\\maxi\\anaconda3\\lib\\site-packages (from matplotlib) (9.4.0)\n",
      "Requirement already satisfied: pyparsing>=2.3.1 in c:\\users\\maxi\\anaconda3\\lib\\site-packages (from matplotlib) (3.0.9)\n",
      "Requirement already satisfied: six>=1.5 in c:\\users\\maxi\\anaconda3\\lib\\site-packages (from python-dateutil>=2.8.1->pandas) (1.16.0)\n",
      "Note: you may need to restart the kernel to use updated packages.\n"
     ]
    }
   ],
   "source": [
    "pip install pandas numpy scikit-learn matplotlib seaborn"
   ]
  },
  {
   "cell_type": "code",
   "execution_count": 1,
   "id": "f7e70569",
   "metadata": {},
   "outputs": [
    {
     "name": "stdout",
     "output_type": "stream",
     "text": [
      "<class 'pandas.core.frame.DataFrame'>\n",
      "RangeIndex: 9841 entries, 0 to 9840\n",
      "Data columns (total 49 columns):\n",
      " #   Column                                                Non-Null Count  Dtype  \n",
      "---  ------                                                --------------  -----  \n",
      " 0   Index                                                 9841 non-null   int64  \n",
      " 1   FLAG                                                  9841 non-null   int64  \n",
      " 2   Avg min between sent tnx                              9841 non-null   float64\n",
      " 3   Avg min between received tnx                          9841 non-null   float64\n",
      " 4   Time Diff between first and last (Mins)               9841 non-null   float64\n",
      " 5   Sent tnx                                              9841 non-null   int64  \n",
      " 6   Received Tnx                                          9841 non-null   int64  \n",
      " 7   Number of Created Contracts                           9841 non-null   int64  \n",
      " 8   Unique Received From Addresses                        9841 non-null   int64  \n",
      " 9   Unique Sent To Addresses                              9841 non-null   int64  \n",
      " 10  min value received                                    9841 non-null   float64\n",
      " 11  max value received                                    9841 non-null   float64\n",
      " 12  avg val received                                      9841 non-null   float64\n",
      " 13  min val sent                                          9841 non-null   float64\n",
      " 14  max val sent                                          9841 non-null   float64\n",
      " 15  avg val sent                                          9841 non-null   float64\n",
      " 16  min value sent to contract                            9841 non-null   float64\n",
      " 17  max val sent to contract                              9841 non-null   float64\n",
      " 18  avg value sent to contract                            9841 non-null   float64\n",
      " 19  total transactions (including tnx to create contract  9841 non-null   int64  \n",
      " 20  total Ether sent                                      9841 non-null   float64\n",
      " 21  total ether received                                  9841 non-null   float64\n",
      " 22  total ether sent contracts                            9841 non-null   float64\n",
      " 23  total ether balance                                   9841 non-null   float64\n",
      " 24   Total ERC20 tnxs                                     9012 non-null   float64\n",
      " 25   ERC20 total Ether received                           9012 non-null   float64\n",
      " 26   ERC20 total ether sent                               9012 non-null   float64\n",
      " 27   ERC20 total Ether sent contract                      9012 non-null   float64\n",
      " 28   ERC20 uniq sent addr                                 9012 non-null   float64\n",
      " 29   ERC20 uniq rec addr                                  9012 non-null   float64\n",
      " 30   ERC20 uniq sent addr.1                               9012 non-null   float64\n",
      " 31   ERC20 uniq rec contract addr                         9012 non-null   float64\n",
      " 32   ERC20 avg time between sent tnx                      9012 non-null   float64\n",
      " 33   ERC20 avg time between rec tnx                       9012 non-null   float64\n",
      " 34   ERC20 avg time between rec 2 tnx                     9012 non-null   float64\n",
      " 35   ERC20 avg time between contract tnx                  9012 non-null   float64\n",
      " 36   ERC20 min val rec                                    9012 non-null   float64\n",
      " 37   ERC20 max val rec                                    9012 non-null   float64\n",
      " 38   ERC20 avg val rec                                    9012 non-null   float64\n",
      " 39   ERC20 min val sent                                   9012 non-null   float64\n",
      " 40   ERC20 max val sent                                   9012 non-null   float64\n",
      " 41   ERC20 avg val sent                                   9012 non-null   float64\n",
      " 42   ERC20 min val sent contract                          9012 non-null   float64\n",
      " 43   ERC20 max val sent contract                          9012 non-null   float64\n",
      " 44   ERC20 avg val sent contract                          9012 non-null   float64\n",
      " 45   ERC20 uniq sent token name                           9012 non-null   float64\n",
      " 46   ERC20 uniq rec token name                            9012 non-null   float64\n",
      " 47   ERC20 most sent token type                           9000 non-null   object \n",
      " 48   ERC20_most_rec_token_type                            8990 non-null   object \n",
      "dtypes: float64(39), int64(8), object(2)\n",
      "memory usage: 3.7+ MB\n",
      "None\n",
      "   Index  FLAG  Avg min between sent tnx  Avg min between received tnx  \\\n",
      "0      1     0                    844.26                       1093.71   \n",
      "1      2     0                  12709.07                       2958.44   \n",
      "2      3     0                 246194.54                       2434.02   \n",
      "3      4     0                  10219.60                      15785.09   \n",
      "4      5     0                     36.61                      10707.77   \n",
      "\n",
      "   Time Diff between first and last (Mins)  Sent tnx  Received Tnx  \\\n",
      "0                                704785.63       721            89   \n",
      "1                               1218216.73        94             8   \n",
      "2                                516729.30         2            10   \n",
      "3                                397555.90        25             9   \n",
      "4                                382472.42      4598            20   \n",
      "\n",
      "   Number of Created Contracts  Unique Received From Addresses  \\\n",
      "0                            0                              40   \n",
      "1                            0                               5   \n",
      "2                            0                              10   \n",
      "3                            0                               7   \n",
      "4                            1                               7   \n",
      "\n",
      "   Unique Sent To Addresses  ...   ERC20 min val sent   ERC20 max val sent  \\\n",
      "0                       118  ...             0.000000         1.683100e+07   \n",
      "1                        14  ...             2.260809         2.260809e+00   \n",
      "2                         2  ...             0.000000         0.000000e+00   \n",
      "3                        13  ...           100.000000         9.029231e+03   \n",
      "4                        19  ...             0.000000         4.500000e+04   \n",
      "\n",
      "    ERC20 avg val sent   ERC20 min val sent contract  \\\n",
      "0        271779.920000                           0.0   \n",
      "1             2.260809                           0.0   \n",
      "2             0.000000                           0.0   \n",
      "3          3804.076893                           0.0   \n",
      "4         13726.659220                           0.0   \n",
      "\n",
      "    ERC20 max val sent contract   ERC20 avg val sent contract  \\\n",
      "0                           0.0                           0.0   \n",
      "1                           0.0                           0.0   \n",
      "2                           0.0                           0.0   \n",
      "3                           0.0                           0.0   \n",
      "4                           0.0                           0.0   \n",
      "\n",
      "    ERC20 uniq sent token name   ERC20 uniq rec token name  \\\n",
      "0                         39.0                        57.0   \n",
      "1                          1.0                         7.0   \n",
      "2                          0.0                         8.0   \n",
      "3                          1.0                        11.0   \n",
      "4                          6.0                        27.0   \n",
      "\n",
      "    ERC20 most sent token type   ERC20_most_rec_token_type  \n",
      "0                    Cofoundit                   Numeraire  \n",
      "1               Livepeer Token              Livepeer Token  \n",
      "2                         None                       XENON  \n",
      "3                       Raiden                       XENON  \n",
      "4                StatusNetwork                         EOS  \n",
      "\n",
      "[5 rows x 49 columns]\n"
     ]
    }
   ],
   "source": [
    "import pandas as pd\n",
    "\n",
    "data = pd.read_csv('transaction_dataset.csv')\n",
    "\n",
    "print(data.info())\n",
    "print(data.head())"
   ]
  },
  {
   "cell_type": "code",
   "execution_count": 2,
   "id": "46dec0d0",
   "metadata": {},
   "outputs": [
    {
     "name": "stdout",
     "output_type": "stream",
     "text": [
      "Index(['Index', 'FLAG', 'Avg min between sent tnx',\n",
      "       'Avg min between received tnx',\n",
      "       'Time Diff between first and last (Mins)', 'Sent tnx', 'Received Tnx',\n",
      "       'Number of Created Contracts', 'Unique Received From Addresses',\n",
      "       'Unique Sent To Addresses', 'min value received', 'max value received ',\n",
      "       'avg val received', 'min val sent', 'max val sent', 'avg val sent',\n",
      "       'min value sent to contract', 'max val sent to contract',\n",
      "       'avg value sent to contract',\n",
      "       'total transactions (including tnx to create contract',\n",
      "       'total Ether sent', 'total ether received',\n",
      "       'total ether sent contracts', 'total ether balance',\n",
      "       ' Total ERC20 tnxs', ' ERC20 total Ether received',\n",
      "       ' ERC20 total ether sent', ' ERC20 total Ether sent contract',\n",
      "       ' ERC20 uniq sent addr', ' ERC20 uniq rec addr',\n",
      "       ' ERC20 uniq sent addr.1', ' ERC20 uniq rec contract addr',\n",
      "       ' ERC20 avg time between sent tnx', ' ERC20 avg time between rec tnx',\n",
      "       ' ERC20 avg time between rec 2 tnx',\n",
      "       ' ERC20 avg time between contract tnx', ' ERC20 min val rec',\n",
      "       ' ERC20 max val rec', ' ERC20 avg val rec', ' ERC20 min val sent',\n",
      "       ' ERC20 max val sent', ' ERC20 avg val sent',\n",
      "       ' ERC20 min val sent contract', ' ERC20 max val sent contract',\n",
      "       ' ERC20 avg val sent contract', ' ERC20 uniq sent token name',\n",
      "       ' ERC20 uniq rec token name', ' ERC20 most sent token type',\n",
      "       ' ERC20_most_rec_token_type'],\n",
      "      dtype='object')\n"
     ]
    }
   ],
   "source": [
    "print(data.columns)"
   ]
  },
  {
   "cell_type": "code",
   "execution_count": 3,
   "id": "244be812",
   "metadata": {},
   "outputs": [],
   "source": [
    "import pandas as pd\n",
    "import numpy as np\n",
    "from sklearn.model_selection import train_test_split\n",
    "from sklearn.ensemble import RandomForestClassifier\n",
    "from sklearn.preprocessing import StandardScaler, LabelEncoder\n",
    "from sklearn.metrics import classification_report, confusion_matrix, f1_score, roc_auc_score\n",
    "import matplotlib.pyplot as plt\n",
    "import seaborn as sns"
   ]
  },
  {
   "cell_type": "markdown",
   "id": "1b2d0f82",
   "metadata": {},
   "source": [
    "### Missing values - dropping"
   ]
  },
  {
   "cell_type": "code",
   "execution_count": 4,
   "id": "86dd7466",
   "metadata": {},
   "outputs": [],
   "source": [
    "# dropping missing values\n",
    "data.dropna(inplace=True)"
   ]
  },
  {
   "cell_type": "code",
   "execution_count": 5,
   "id": "33a9c31d",
   "metadata": {},
   "outputs": [],
   "source": [
    "# Defining features and target\n",
    "y = data['FLAG']\n",
    "X = data.drop(columns=['FLAG', 'Index'])"
   ]
  },
  {
   "cell_type": "markdown",
   "id": "520ba992",
   "metadata": {},
   "source": [
    "### Encoding"
   ]
  },
  {
   "cell_type": "code",
   "execution_count": 6,
   "id": "76da815c",
   "metadata": {},
   "outputs": [],
   "source": [
    "# Encoding non-numeric columns instead of dropping:\n",
    "for col in X.select_dtypes(include=['object']).columns:\n",
    "    le = LabelEncoder()\n",
    "    X[col] = le.fit_transform(X[col])"
   ]
  },
  {
   "cell_type": "markdown",
   "id": "18444ffe",
   "metadata": {},
   "source": [
    "### Scaling"
   ]
  },
  {
   "cell_type": "code",
   "execution_count": 7,
   "id": "904426ab",
   "metadata": {},
   "outputs": [],
   "source": [
    "# Scaling features\n",
    "std_scaler = StandardScaler()\n",
    "X_scaled = std_scaler.fit_transform(X)"
   ]
  },
  {
   "cell_type": "code",
   "execution_count": 8,
   "id": "bb5315c4",
   "metadata": {},
   "outputs": [],
   "source": [
    "# Splitting into train-test sets\n",
    "X_train, X_test, y_train, y_test = train_test_split(\n",
    "    X_scaled, y, test_size=0.2, random_state=42, stratify=y\n",
    ")"
   ]
  },
  {
   "cell_type": "markdown",
   "id": "0e0ab517",
   "metadata": {},
   "source": [
    "### Model training"
   ]
  },
  {
   "cell_type": "code",
   "execution_count": 10,
   "id": "a8e81cf4",
   "metadata": {},
   "outputs": [
    {
     "data": {
      "text/html": [
       "<style>#sk-container-id-1 {color: black;background-color: white;}#sk-container-id-1 pre{padding: 0;}#sk-container-id-1 div.sk-toggleable {background-color: white;}#sk-container-id-1 label.sk-toggleable__label {cursor: pointer;display: block;width: 100%;margin-bottom: 0;padding: 0.3em;box-sizing: border-box;text-align: center;}#sk-container-id-1 label.sk-toggleable__label-arrow:before {content: \"▸\";float: left;margin-right: 0.25em;color: #696969;}#sk-container-id-1 label.sk-toggleable__label-arrow:hover:before {color: black;}#sk-container-id-1 div.sk-estimator:hover label.sk-toggleable__label-arrow:before {color: black;}#sk-container-id-1 div.sk-toggleable__content {max-height: 0;max-width: 0;overflow: hidden;text-align: left;background-color: #f0f8ff;}#sk-container-id-1 div.sk-toggleable__content pre {margin: 0.2em;color: black;border-radius: 0.25em;background-color: #f0f8ff;}#sk-container-id-1 input.sk-toggleable__control:checked~div.sk-toggleable__content {max-height: 200px;max-width: 100%;overflow: auto;}#sk-container-id-1 input.sk-toggleable__control:checked~label.sk-toggleable__label-arrow:before {content: \"▾\";}#sk-container-id-1 div.sk-estimator input.sk-toggleable__control:checked~label.sk-toggleable__label {background-color: #d4ebff;}#sk-container-id-1 div.sk-label input.sk-toggleable__control:checked~label.sk-toggleable__label {background-color: #d4ebff;}#sk-container-id-1 input.sk-hidden--visually {border: 0;clip: rect(1px 1px 1px 1px);clip: rect(1px, 1px, 1px, 1px);height: 1px;margin: -1px;overflow: hidden;padding: 0;position: absolute;width: 1px;}#sk-container-id-1 div.sk-estimator {font-family: monospace;background-color: #f0f8ff;border: 1px dotted black;border-radius: 0.25em;box-sizing: border-box;margin-bottom: 0.5em;}#sk-container-id-1 div.sk-estimator:hover {background-color: #d4ebff;}#sk-container-id-1 div.sk-parallel-item::after {content: \"\";width: 100%;border-bottom: 1px solid gray;flex-grow: 1;}#sk-container-id-1 div.sk-label:hover label.sk-toggleable__label {background-color: #d4ebff;}#sk-container-id-1 div.sk-serial::before {content: \"\";position: absolute;border-left: 1px solid gray;box-sizing: border-box;top: 0;bottom: 0;left: 50%;z-index: 0;}#sk-container-id-1 div.sk-serial {display: flex;flex-direction: column;align-items: center;background-color: white;padding-right: 0.2em;padding-left: 0.2em;position: relative;}#sk-container-id-1 div.sk-item {position: relative;z-index: 1;}#sk-container-id-1 div.sk-parallel {display: flex;align-items: stretch;justify-content: center;background-color: white;position: relative;}#sk-container-id-1 div.sk-item::before, #sk-container-id-1 div.sk-parallel-item::before {content: \"\";position: absolute;border-left: 1px solid gray;box-sizing: border-box;top: 0;bottom: 0;left: 50%;z-index: -1;}#sk-container-id-1 div.sk-parallel-item {display: flex;flex-direction: column;z-index: 1;position: relative;background-color: white;}#sk-container-id-1 div.sk-parallel-item:first-child::after {align-self: flex-end;width: 50%;}#sk-container-id-1 div.sk-parallel-item:last-child::after {align-self: flex-start;width: 50%;}#sk-container-id-1 div.sk-parallel-item:only-child::after {width: 0;}#sk-container-id-1 div.sk-dashed-wrapped {border: 1px dashed gray;margin: 0 0.4em 0.5em 0.4em;box-sizing: border-box;padding-bottom: 0.4em;background-color: white;}#sk-container-id-1 div.sk-label label {font-family: monospace;font-weight: bold;display: inline-block;line-height: 1.2em;}#sk-container-id-1 div.sk-label-container {text-align: center;}#sk-container-id-1 div.sk-container {/* jupyter's `normalize.less` sets `[hidden] { display: none; }` but bootstrap.min.css set `[hidden] { display: none !important; }` so we also need the `!important` here to be able to override the default hidden behavior on the sphinx rendered scikit-learn.org. See: https://github.com/scikit-learn/scikit-learn/issues/21755 */display: inline-block !important;position: relative;}#sk-container-id-1 div.sk-text-repr-fallback {display: none;}</style><div id=\"sk-container-id-1\" class=\"sk-top-container\"><div class=\"sk-text-repr-fallback\"><pre>RandomForestClassifier(random_state=42)</pre><b>In a Jupyter environment, please rerun this cell to show the HTML representation or trust the notebook. <br />On GitHub, the HTML representation is unable to render, please try loading this page with nbviewer.org.</b></div><div class=\"sk-container\" hidden><div class=\"sk-item\"><div class=\"sk-estimator sk-toggleable\"><input class=\"sk-toggleable__control sk-hidden--visually\" id=\"sk-estimator-id-1\" type=\"checkbox\" checked><label for=\"sk-estimator-id-1\" class=\"sk-toggleable__label sk-toggleable__label-arrow\">RandomForestClassifier</label><div class=\"sk-toggleable__content\"><pre>RandomForestClassifier(random_state=42)</pre></div></div></div></div></div>"
      ],
      "text/plain": [
       "RandomForestClassifier(random_state=42)"
      ]
     },
     "execution_count": 10,
     "metadata": {},
     "output_type": "execute_result"
    }
   ],
   "source": [
    "# Random forest\n",
    "random_forest_classifier = RandomForestClassifier(n_estimators=100, random_state=42)\n",
    "random_forest_classifier.fit(X_train, y_train)"
   ]
  },
  {
   "cell_type": "code",
   "execution_count": 11,
   "id": "af76169a",
   "metadata": {},
   "outputs": [
    {
     "name": "stdout",
     "output_type": "stream",
     "text": [
      "\n",
      "Classification Report:\n",
      "              precision    recall  f1-score   support\n",
      "\n",
      "           0       0.99      1.00      1.00      1527\n",
      "           1       1.00      0.97      0.98       270\n",
      "\n",
      "    accuracy                           1.00      1797\n",
      "   macro avg       1.00      0.99      0.99      1797\n",
      "weighted avg       1.00      1.00      1.00      1797\n",
      "\n",
      "\n",
      "Confusion Matrix:\n",
      "[[1527    0]\n",
      " [   8  262]]\n",
      "\n",
      "F1-Score: 0.9849624060150376\n",
      "\n",
      "AUC-ROC Score: 0.9999708942734482\n"
     ]
    }
   ],
   "source": [
    "y_pred = random_forest_classifier.predict(X_test)\n",
    "print(\"\\nClassification Report:\")\n",
    "print(classification_report(y_test, y_pred))\n",
    "print(\"\\nConfusion Matrix:\")\n",
    "print(confusion_matrix(y_test, y_pred))\n",
    "print(\"\\nF1-Score:\", f1_score(y_test, y_pred))\n",
    "print(\"\\nAUC-ROC Score:\", roc_auc_score(y_test, random_forest_classifier.predict_proba(X_test)[:, 1]))"
   ]
  },
  {
   "cell_type": "code",
   "execution_count": 12,
   "id": "0d9c574d",
   "metadata": {},
   "outputs": [
    {
     "data": {
      "image/png": "[encoded data removed]",
      "text/plain": [
       "<Figure size 800x600 with 2 Axes>"
      ]
     },
     "metadata": {},
     "output_type": "display_data"
    }
   ],
   "source": [
    "# Visualize Confusion Matrix\n",
    "plt.figure(figsize=(8, 6))\n",
    "sns.heatmap(confusion_matrix(y_test, y_pred), annot=True, fmt='d', cmap='Blues')\n",
    "plt.title(\"Confusion Matrix\")\n",
    "plt.xlabel(\"Predicted\")\n",
    "plt.ylabel(\"Actual\")\n",
    "plt.show()"
   ]
  },
  {
   "cell_type": "code",
   "execution_count": 13,
   "id": "a9f7e147",
   "metadata": {},
   "outputs": [
    {
     "data": {
      "image/png": "[encoded data removed]",
      "text/plain": [
       "<Figure size 800x600 with 1 Axes>"
      ]
     },
     "metadata": {},
     "output_type": "display_data"
    }
   ],
   "source": [
    "from sklearn.metrics import roc_curve, auc\n",
    "\n",
    "# Get probabilities for positive class\n",
    "y_proba = random_forest_classifier.predict_proba(X_test)[:, 1]\n",
    "fpr, tpr, _ = roc_curve(y_test, y_proba)\n",
    "roc_auc = auc(fpr, tpr)\n",
    "\n",
    "# Plot ROC curve\n",
    "plt.figure(figsize=(8, 6))\n",
    "plt.plot(fpr, tpr, label=f\"AUC = {roc_auc:.2f}\")\n",
    "plt.plot([0, 1], [0, 1], linestyle=\"--\", color=\"gray\")\n",
    "plt.title(\"ROC Curve\")\n",
    "plt.xlabel(\"False Positive Rate\")\n",
    "plt.ylabel(\"True Positive Rate\")\n",
    "plt.legend(loc=\"lower right\")\n",
    "plt.show()"
   ]
  },
  {
   "cell_type": "code",
   "execution_count": 15,
   "id": "f0d07e92",
   "metadata": {},
   "outputs": [
    {
     "data": {
      "text/plain": [
       "['random_forest_model.pkl']"
      ]
     },
     "execution_count": 15,
     "metadata": {},
     "output_type": "execute_result"
    }
   ],
   "source": [
    "\n",
    "import joblib\n",
    "\n",
    "joblib.dump(random_forest_classifier, \"random_forest_model.pkl\")\n"
   ]
  },
  {
   "cell_type": "code",
   "execution_count": 22,
   "id": "51e98262",
   "metadata": {},
   "outputs": [
    {
     "name": "stdout",
     "output_type": "stream",
     "text": [
      "[LightGBM] [Warning] No further splits with positive gain, best gain: -inf\n",
      "Training until validation scores don't improve for 5 rounds\n",
      "Did not meet early stopping. Best iteration is:\n",
      "[20]\tvalid_0's l1: 0.103935\tvalid_0's l2: 0.0219859\n",
      "Starting training...\n",
      "[LightGBM] [Warning] No further splits with positive gain, best gain: -inf\n",
      "Training until validation scores don't improve for 5 rounds\n",
      "Did not meet early stopping. Best iteration is:\n",
      "[20]\tvalid_0's l1: 0.103935\tvalid_0's l2: 0.0219859\n",
      "Saving model...\n",
      "Starting predicting...\n",
      "The RMSE of prediction is: 0.14827649430634932\n"
     ]
    }
   ],
   "source": [
    "# Using lightgbm\n",
    "import lightgbm as lgb\n",
    "from sklearn.metrics import mean_squared_error\n",
    "\n",
    "params = {\n",
    "    \"boosting_type\": \"gbdt\",\n",
    "    \"objective\": \"regression\",\n",
    "    \"metric\": {\"l2\", \"l1\"},\n",
    "    \"num_leaves\": 31,\n",
    "    \"learning_rate\": 0.05,\n",
    "    \"feature_fraction\": 0.9,\n",
    "    \"bagging_fraction\": 0.8,\n",
    "    \"bagging_freq\": 5,\n",
    "    \"verbose\": 0,\n",
    "}\n",
    "\n",
    "# create dataset for lightgbm\n",
    "lgb_train = lgb.Dataset(X_train, y_train)\n",
    "lgb_eval = lgb.Dataset(X_test, y_test, reference=lgb_train)\n",
    "\n",
    "gbm = lgb.train(\n",
    "    params, lgb_train, num_boost_round=20, valid_sets=lgb_eval, callbacks=[lgb.early_stopping(stopping_rounds=5)]\n",
    ")\n",
    "\n",
    "print(\"Starting training...\")\n",
    "# train\n",
    "gbm = lgb.train(\n",
    "    params, lgb_train, num_boost_round=20, valid_sets=lgb_eval, callbacks=[lgb.early_stopping(stopping_rounds=5)]\n",
    ")\n",
    "\n",
    "print(\"Saving model...\")\n",
    "# save model to file\n",
    "gbm.save_model(\"model.txt\")\n",
    "\n",
    "print(\"Starting predicting...\")\n",
    "# predict\n",
    "y_pred = gbm.predict(X_test, num_iteration=gbm.best_iteration)\n",
    "# eval\n",
    "rmse_test = mean_squared_error(y_test, y_pred) ** 0.5\n",
    "print(f\"The RMSE of prediction is: {rmse_test}\")"
   ]
  }
 ],
 "metadata": {
  "kernelspec": {
   "display_name": "Python 3 (ipykernel)",
   "language": "python",
   "name": "python3"
  },
  "language_info": {
   "codemirror_mode": {
    "name": "ipython",
    "version": 3
   },
   "file_extension": ".py",
   "mimetype": "text/x-python",
   "name": "python",
   "nbconvert_exporter": "python",
   "pygments_lexer": "ipython3",
   "version": "3.11.3"
  }
 },
 "nbformat": 4,
 "nbformat_minor": 5
}
